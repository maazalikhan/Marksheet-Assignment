{
 "cells": [
  {
   "cell_type": "code",
   "execution_count": 5,
   "metadata": {},
   "outputs": [],
   "source": [
    "\n",
    "import csv\n",
    "userName = 'Maaz Ali Khan' \n",
    "roll_num='047'\n",
    "eng =75 \n",
    "math = 72\n",
    "isl = 72\n",
    "phy = 69\n",
    "chem = 82\n",
    "total = 500\n",
    "obt = eng + math+ isl + phy + chem\n",
    "Grade = ''\n",
    "\n",
    "per = float(obt / total * 100)\n",
    "\n",
    "if(per>=80):\n",
    "    Grade='A+'\n",
    "elif(per>=70 and per<80):\n",
    "    Grade='A'\n",
    "elif(per>=60 and per<70):\n",
    "    Grade='B'\n",
    "elif(per>=50 and per<60):\n",
    "    Grade='D'\n",
    "elif(per>=40 and per<50):\n",
    "    Grade='E'\n",
    "else:\n",
    "    Grade='F'\n",
    "\n",
    "\n",
    "with open(\"Marksheet.csv\",\"w\" ,newline=\"\") as f:\n",
    "\n",
    "        file_handler = csv.writer(f, delimiter=',') \n",
    "        file_handler.writerow([\"Name\",\"Roll Number\"])\n",
    "        file_handler.writerow([userName,roll_num])\n",
    "        file_handler.writerow([])\n",
    "        file_handler.writerow([])\n",
    "        file_handler.writerow([\"English\",\"Math\",\"Islamiyat\",\"Physics\",\"Chemistry\",\"Obtain Marks\",\"Total Marks\",\"Percentage\",\"Grade\"])\n",
    "        file_handler.writerow([eng,math,isl,phy,chem,obt,total,float(per),Grade])"
   ]
  },
  {
   "cell_type": "code",
   "execution_count": null,
   "metadata": {},
   "outputs": [],
   "source": []
  },
  {
   "cell_type": "code",
   "execution_count": null,
   "metadata": {},
   "outputs": [],
   "source": []
  }
 ],
 "metadata": {
  "kernelspec": {
   "display_name": "Python 3",
   "language": "python",
   "name": "python3"
  },
  "language_info": {
   "codemirror_mode": {
    "name": "ipython",
    "version": 3
   },
   "file_extension": ".py",
   "mimetype": "text/x-python",
   "name": "python",
   "nbconvert_exporter": "python",
   "pygments_lexer": "ipython3",
   "version": "3.7.3"
  }
 },
 "nbformat": 4,
 "nbformat_minor": 2
}
